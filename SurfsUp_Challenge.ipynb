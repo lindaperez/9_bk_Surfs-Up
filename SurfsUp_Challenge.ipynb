{
 "cells": [
  {
   "cell_type": "code",
   "execution_count": 1,
   "metadata": {},
   "outputs": [],
   "source": [
    "# Dependencies\n",
    "import numpy as np\n",
    "\n",
    "# Python SQL toolkit and Object Relational Mapper\n",
    "import sqlalchemy\n",
    "from sqlalchemy.ext.automap import automap_base\n",
    "from sqlalchemy.orm import Session\n",
    "from sqlalchemy import create_engine, func, inspect\n",
    "import pandas as pd\n",
    "from sqlalchemy import or_, and_\n",
    "import matplotlib.pyplot as plt"
   ]
  },
  {
   "cell_type": "code",
   "execution_count": 2,
   "metadata": {},
   "outputs": [],
   "source": [
    "engine = create_engine(\"sqlite:///hawaii.sqlite\")\n",
    "\n",
    "# reflect an existing database into a new model\n",
    "Base = automap_base()\n",
    "# reflect the tables\n",
    "Base.prepare(engine, reflect=True)\n",
    "\n",
    "# Save references to each table\n",
    "Measurement = Base.classes.measurement\n",
    "Station = Base.classes.station"
   ]
  },
  {
   "cell_type": "code",
   "execution_count": 3,
   "metadata": {},
   "outputs": [],
   "source": [
    "# Create our session (link) from Python to the DB\n",
    "session = Session(engine)"
   ]
  },
  {
   "cell_type": "markdown",
   "metadata": {},
   "source": [
    "## D1: Determine the Summary Statistics for June"
   ]
  },
  {
   "cell_type": "code",
   "execution_count": 4,
   "metadata": {},
   "outputs": [
    {
     "name": "stdout",
     "output_type": "stream",
     "text": [
      "id INTEGER\n",
      "station TEXT\n",
      "date TEXT\n",
      "prcp FLOAT\n",
      "tobs FLOAT\n"
     ]
    }
   ],
   "source": [
    "# 1. Import the sqlalchemy extract function.\n",
    "from sqlalchemy import extract\n",
    "\n",
    "# 2. Write a query that filters the Measurement table to retrieve the temperatures for the month of June. \n",
    "inspector = inspect(engine)\n",
    "for column in inspector.get_columns('measurement'):\n",
    "    print(column['name'], column['type'])\n",
    "june_temps = session.query(Measurement.date,Measurement.tobs).filter(extract('month', Measurement.date)==6).all()\n"
   ]
  },
  {
   "cell_type": "code",
   "execution_count": 5,
   "metadata": {},
   "outputs": [],
   "source": [
    "#  3. Convert the June temperatures to a list.\n",
    "june_temp_list=list(june_temps)"
   ]
  },
  {
   "cell_type": "code",
   "execution_count": 6,
   "metadata": {},
   "outputs": [],
   "source": [
    "# 4. Create a DataFrame from the list of temperatures for the month of June. \n",
    "june_temp_df = pd.DataFrame(june_temp_list, columns=['Dates','Temperatures'])"
   ]
  },
  {
   "cell_type": "code",
   "execution_count": 7,
   "metadata": {},
   "outputs": [
    {
     "data": {
      "text/html": [
       "<div>\n",
       "<style scoped>\n",
       "    .dataframe tbody tr th:only-of-type {\n",
       "        vertical-align: middle;\n",
       "    }\n",
       "\n",
       "    .dataframe tbody tr th {\n",
       "        vertical-align: top;\n",
       "    }\n",
       "\n",
       "    .dataframe thead th {\n",
       "        text-align: right;\n",
       "    }\n",
       "</style>\n",
       "<table border=\"1\" class=\"dataframe\">\n",
       "  <thead>\n",
       "    <tr style=\"text-align: right;\">\n",
       "      <th></th>\n",
       "      <th>Temperatures</th>\n",
       "    </tr>\n",
       "  </thead>\n",
       "  <tbody>\n",
       "    <tr>\n",
       "      <th>count</th>\n",
       "      <td>1700.000000</td>\n",
       "    </tr>\n",
       "    <tr>\n",
       "      <th>mean</th>\n",
       "      <td>74.944118</td>\n",
       "    </tr>\n",
       "    <tr>\n",
       "      <th>std</th>\n",
       "      <td>3.257417</td>\n",
       "    </tr>\n",
       "    <tr>\n",
       "      <th>min</th>\n",
       "      <td>64.000000</td>\n",
       "    </tr>\n",
       "    <tr>\n",
       "      <th>25%</th>\n",
       "      <td>73.000000</td>\n",
       "    </tr>\n",
       "    <tr>\n",
       "      <th>50%</th>\n",
       "      <td>75.000000</td>\n",
       "    </tr>\n",
       "    <tr>\n",
       "      <th>75%</th>\n",
       "      <td>77.000000</td>\n",
       "    </tr>\n",
       "    <tr>\n",
       "      <th>max</th>\n",
       "      <td>85.000000</td>\n",
       "    </tr>\n",
       "  </tbody>\n",
       "</table>\n",
       "</div>"
      ],
      "text/plain": [
       "       Temperatures\n",
       "count   1700.000000\n",
       "mean      74.944118\n",
       "std        3.257417\n",
       "min       64.000000\n",
       "25%       73.000000\n",
       "50%       75.000000\n",
       "75%       77.000000\n",
       "max       85.000000"
      ]
     },
     "execution_count": 7,
     "metadata": {},
     "output_type": "execute_result"
    }
   ],
   "source": [
    "# 5. Calculate and print out the summary statistics for the June temperature DataFrame.\n",
    "june_temp_df.describe()"
   ]
  },
  {
   "cell_type": "markdown",
   "metadata": {},
   "source": [
    "## D2: Determine the Summary Statistics for December"
   ]
  },
  {
   "cell_type": "code",
   "execution_count": 8,
   "metadata": {},
   "outputs": [],
   "source": [
    "# 6. Write a query that filters the Measurement table to retrieve the temperatures for the month of December.\n",
    "dec_temp = session.query(Measurement.date,Measurement.tobs).filter(extract('month',Measurement.date)==12).all()"
   ]
  },
  {
   "cell_type": "code",
   "execution_count": 9,
   "metadata": {},
   "outputs": [],
   "source": [
    "# 7. Convert the December temperatures to a list\n",
    "dec_temp_list = list(dec_temp)"
   ]
  },
  {
   "cell_type": "code",
   "execution_count": 10,
   "metadata": {},
   "outputs": [],
   "source": [
    "# 8. Create a DataFrame from the list of temperatures for the month of December. \n",
    "dec_temp_df = pd.DataFrame(dec_temp_list,columns=['Date','Temperatures'])"
   ]
  },
  {
   "cell_type": "code",
   "execution_count": 11,
   "metadata": {},
   "outputs": [
    {
     "data": {
      "text/html": [
       "<div>\n",
       "<style scoped>\n",
       "    .dataframe tbody tr th:only-of-type {\n",
       "        vertical-align: middle;\n",
       "    }\n",
       "\n",
       "    .dataframe tbody tr th {\n",
       "        vertical-align: top;\n",
       "    }\n",
       "\n",
       "    .dataframe thead th {\n",
       "        text-align: right;\n",
       "    }\n",
       "</style>\n",
       "<table border=\"1\" class=\"dataframe\">\n",
       "  <thead>\n",
       "    <tr style=\"text-align: right;\">\n",
       "      <th></th>\n",
       "      <th>Temperatures</th>\n",
       "    </tr>\n",
       "  </thead>\n",
       "  <tbody>\n",
       "    <tr>\n",
       "      <th>count</th>\n",
       "      <td>1517.000000</td>\n",
       "    </tr>\n",
       "    <tr>\n",
       "      <th>mean</th>\n",
       "      <td>71.041529</td>\n",
       "    </tr>\n",
       "    <tr>\n",
       "      <th>std</th>\n",
       "      <td>3.745920</td>\n",
       "    </tr>\n",
       "    <tr>\n",
       "      <th>min</th>\n",
       "      <td>56.000000</td>\n",
       "    </tr>\n",
       "    <tr>\n",
       "      <th>25%</th>\n",
       "      <td>69.000000</td>\n",
       "    </tr>\n",
       "    <tr>\n",
       "      <th>50%</th>\n",
       "      <td>71.000000</td>\n",
       "    </tr>\n",
       "    <tr>\n",
       "      <th>75%</th>\n",
       "      <td>74.000000</td>\n",
       "    </tr>\n",
       "    <tr>\n",
       "      <th>max</th>\n",
       "      <td>83.000000</td>\n",
       "    </tr>\n",
       "  </tbody>\n",
       "</table>\n",
       "</div>"
      ],
      "text/plain": [
       "       Temperatures\n",
       "count   1517.000000\n",
       "mean      71.041529\n",
       "std        3.745920\n",
       "min       56.000000\n",
       "25%       69.000000\n",
       "50%       71.000000\n",
       "75%       74.000000\n",
       "max       83.000000"
      ]
     },
     "execution_count": 11,
     "metadata": {},
     "output_type": "execute_result"
    }
   ],
   "source": [
    "# 9. Calculate and print out the summary statistics for the Decemeber temperature DataFrame.\n",
    "dec_temp_df.describe()"
   ]
  },
  {
   "cell_type": "markdown",
   "metadata": {},
   "source": [
    "## RESULTS"
   ]
  },
  {
   "cell_type": "code",
   "execution_count": 12,
   "metadata": {},
   "outputs": [
    {
     "name": "stdout",
     "output_type": "stream",
     "text": [
      "---- June Statistic Summary ---\n",
      "       Temperatures\n",
      "count   1700.000000\n",
      "mean      74.944118\n",
      "std        3.257417\n",
      "min       64.000000\n",
      "25%       73.000000\n",
      "50%       75.000000\n",
      "75%       77.000000\n",
      "max       85.000000\n"
     ]
    },
    {
     "data": {
      "image/png": "[encoded data removed]",
      "text/plain": [
       "<Figure size 432x288 with 1 Axes>"
      ]
     },
     "metadata": {
      "needs_background": "light"
     },
     "output_type": "display_data"
    }
   ],
   "source": [
    "print('---- June Statistic Summary ---')\n",
    "print(june_temp_df.describe())\n",
    "june_temp_df.plot.hist(bins=7, alpha=0.8)\n",
    "plt.show()\n"
   ]
  },
  {
   "cell_type": "code",
   "execution_count": 13,
   "metadata": {},
   "outputs": [
    {
     "name": "stdout",
     "output_type": "stream",
     "text": [
      "---- December Statistic Summary ---\n",
      "       Temperatures\n",
      "count   1517.000000\n",
      "mean      71.041529\n",
      "std        3.745920\n",
      "min       56.000000\n",
      "25%       69.000000\n",
      "50%       71.000000\n",
      "75%       74.000000\n",
      "max       83.000000\n"
     ]
    },
    {
     "data": {
      "image/png": "[encoded data removed]",
      "text/plain": [
       "<Figure size 432x288 with 1 Axes>"
      ]
     },
     "metadata": {
      "needs_background": "light"
     },
     "output_type": "display_data"
    }
   ],
   "source": [
    "print('---- December Statistic Summary ---')\n",
    "print(dec_temp_df.describe())\n",
    "dec_temp_df.plot.hist(bins=7, alpha=0.8)\n",
    "plt.show()"
   ]
  },
  {
   "cell_type": "code",
   "execution_count": 14,
   "metadata": {},
   "outputs": [
    {
     "data": {
      "image/png": "[encoded data removed]",
      "text/plain": [
       "<Figure size 432x288 with 1 Axes>"
      ]
     },
     "metadata": {
      "needs_background": "light"
     },
     "output_type": "display_data"
    }
   ],
   "source": [
    "\n",
    "plt.hist(june_temp_df['Temperatures'], bins=7, alpha = 0.5, label='June')\n",
    "plt.hist(dec_temp_df['Temperatures'], bins=7, alpha=0.5,label='December')\n",
    "plt.legend(loc='upper left')\n",
    "\n",
    "plt.xlabel('Temperature')\n",
    "plt.ylabel('Frequency')\n",
    "plt.show()"
   ]
  },
  {
   "cell_type": "markdown",
   "metadata": {},
   "source": [
    "## Additional Queries "
   ]
  },
  {
   "cell_type": "markdown",
   "metadata": {},
   "source": [
    "### Amount of precipitation"
   ]
  },
  {
   "cell_type": "code",
   "execution_count": 45,
   "metadata": {},
   "outputs": [],
   "source": [
    "june_prcp = session.query(Measurement.date,Measurement.prcp).\\\n",
    "filter(extract('month',Measurement.date)==6).\\\n",
    "order_by(Measurement.prcp).all()\n",
    "dec_prcp = session.query(Measurement.date,Measurement.prcp).\\\n",
    "filter(extract('month',Measurement.date)==12).\\\n",
    "order_by(Measurement.prcp).all()\n",
    "\n",
    "\n",
    "june_prcp_df = pd.DataFrame(list(june_prcp),columns=['Date','Precipitation'])\n",
    "june_prcp_df.set_index(june_prcp_df['Date'],inplace=True)\n",
    "june_prcp_df.sort_index(inplace =True)\n",
    "\n",
    "dec_prcp_df = pd.DataFrame(list(dec_prcp),columns=['Date','Precipitation'])\n",
    "dec_prcp_df.set_index(dec_prcp_df['Date'],inplace=True)\n",
    "dec_prcp_df.sort_index(inplace =True)"
   ]
  },
  {
   "cell_type": "code",
   "execution_count": 74,
   "metadata": {},
   "outputs": [
    {
     "name": "stdout",
     "output_type": "stream",
     "text": [
      "------Precipitation June----\n",
      "       Precipitation\n",
      "count    1574.000000\n",
      "mean        0.136360\n",
      "std         0.335731\n",
      "min         0.000000\n",
      "25%         0.000000\n",
      "50%         0.020000\n",
      "75%         0.120000\n",
      "max         4.430000\n"
     ]
    },
    {
     "data": {
      "text/plain": [
       "Text(0.5, -23.260037815981867, 'Date')"
      ]
     },
     "execution_count": 74,
     "metadata": {},
     "output_type": "execute_result"
    },
    {
     "data": {
      "image/png": "[encoded data removed]",
      "text/plain": [
       "<Figure size 432x288 with 1 Axes>"
      ]
     },
     "metadata": {
      "needs_background": "light"
     },
     "output_type": "display_data"
    }
   ],
   "source": [
    "print('-----June Precipitations----')\n",
    "print(june_prcp_df.describe())\n",
    "june_prcp_df.plot()\n",
    "plt.xticks(rotation = 45, size=10) #\n",
    "plt.tight_layout()\n",
    "plt.ylim(0,5)\n",
    "plt.ylabel('Precipitation Level', size=10)\n",
    "plt.xlabel('Date', size=10)\n"
   ]
  },
  {
   "cell_type": "code",
   "execution_count": 75,
   "metadata": {},
   "outputs": [
    {
     "name": "stdout",
     "output_type": "stream",
     "text": [
      "-----December Precipitations----\n",
      "       Precipitation\n",
      "count    1405.000000\n",
      "mean        0.216819\n",
      "std         0.541399\n",
      "min         0.000000\n",
      "25%         0.000000\n",
      "50%         0.030000\n",
      "75%         0.150000\n",
      "max         6.420000\n"
     ]
    },
    {
     "data": {
      "text/plain": [
       "Text(0.5, -23.260037815981867, 'Date')"
      ]
     },
     "execution_count": 75,
     "metadata": {},
     "output_type": "execute_result"
    },
    {
     "data": {
      "image/png": "[encoded data removed]",
      "text/plain": [
       "<Figure size 432x288 with 1 Axes>"
      ]
     },
     "metadata": {
      "needs_background": "light"
     },
     "output_type": "display_data"
    }
   ],
   "source": [
    "print('-----December Precipitations----')\n",
    "print(dec_prcp_df.describe())\n",
    "dec_prcp_df.plot()\n",
    "plt.xticks(rotation = 45, size=10) #\n",
    "plt.tight_layout()\n",
    "plt.ylim(0,5)\n",
    "plt.ylabel('Precipitation Level', size=10)\n",
    "plt.xlabel('Date', size=10)\n"
   ]
  },
  {
   "cell_type": "code",
   "execution_count": 68,
   "metadata": {},
   "outputs": [
    {
     "data": {
      "image/png": "[encoded data removed]",
      "text/plain": [
       "<Figure size 432x288 with 1 Axes>"
      ]
     },
     "metadata": {
      "needs_background": "light"
     },
     "output_type": "display_data"
    }
   ],
   "source": [
    "boxplot = dec_prcp_df.boxplot(column=['Precipitation'])  \n"
   ]
  },
  {
   "cell_type": "code",
   "execution_count": 69,
   "metadata": {},
   "outputs": [
    {
     "data": {
      "image/png": "[encoded data removed]",
      "text/plain": [
       "<Figure size 432x288 with 1 Axes>"
      ]
     },
     "metadata": {
      "needs_background": "light"
     },
     "output_type": "display_data"
    }
   ],
   "source": [
    "boxplot = june_prcp_df.boxplot(column=['Precipitation'])  \n"
   ]
  },
  {
   "cell_type": "markdown",
   "metadata": {},
   "source": [
    "## Temperatures by Season"
   ]
  },
  {
   "cell_type": "code",
   "execution_count": 18,
   "metadata": {},
   "outputs": [
    {
     "data": {
      "text/html": [
       "<div>\n",
       "<style scoped>\n",
       "    .dataframe tbody tr th:only-of-type {\n",
       "        vertical-align: middle;\n",
       "    }\n",
       "\n",
       "    .dataframe tbody tr th {\n",
       "        vertical-align: top;\n",
       "    }\n",
       "\n",
       "    .dataframe thead th {\n",
       "        text-align: right;\n",
       "    }\n",
       "</style>\n",
       "<table border=\"1\" class=\"dataframe\">\n",
       "  <thead>\n",
       "    <tr style=\"text-align: right;\">\n",
       "      <th></th>\n",
       "      <th>Seasons of 2022</th>\n",
       "      <th>Meteorological Start</th>\n",
       "      <th>Meteorological End</th>\n",
       "    </tr>\n",
       "  </thead>\n",
       "  <tbody>\n",
       "    <tr>\n",
       "      <th>0</th>\n",
       "      <td>SPRING</td>\n",
       "      <td>Tuesday, March 1</td>\n",
       "      <td>Wednesday, June 1</td>\n",
       "    </tr>\n",
       "    <tr>\n",
       "      <th>1</th>\n",
       "      <td>SUMMER</td>\n",
       "      <td>Wednesday, June 1</td>\n",
       "      <td>Thursday, September 1</td>\n",
       "    </tr>\n",
       "    <tr>\n",
       "      <th>2</th>\n",
       "      <td>FALL</td>\n",
       "      <td>Thursday, September 1</td>\n",
       "      <td>Thursday, December 1</td>\n",
       "    </tr>\n",
       "    <tr>\n",
       "      <th>3</th>\n",
       "      <td>WINTER</td>\n",
       "      <td>Thursday, December 1</td>\n",
       "      <td>Tuesday, March 1</td>\n",
       "    </tr>\n",
       "  </tbody>\n",
       "</table>\n",
       "</div>"
      ],
      "text/plain": [
       "  Seasons of 2022   Meteorological Start     Meteorological End\n",
       "0          SPRING       Tuesday, March 1      Wednesday, June 1\n",
       "1          SUMMER      Wednesday, June 1  Thursday, September 1\n",
       "2            FALL  Thursday, September 1   Thursday, December 1\n",
       "3          WINTER   Thursday, December 1       Tuesday, March 1"
      ]
     },
     "execution_count": 18,
     "metadata": {},
     "output_type": "execute_result"
    }
   ],
   "source": [
    "# The First Days of the Seasons \n",
    "seasons_df = pd.DataFrame()\n",
    "seasons_df['Seasons of 2022'] = ['SPRING','SUMMER','FALL','WINTER']\n",
    "seasons_df['Meteorological Start'] = ['Tuesday, March 1','Wednesday, June 1','Thursday, September 1','Thursday, December 1']\n",
    "seasons_df['Meteorological End'] = ['Wednesday, June 1','Thursday, September 1','Thursday, December 1','Tuesday, March 1']\n",
    "seasons_df"
   ]
  },
  {
   "cell_type": "code",
   "execution_count": 19,
   "metadata": {},
   "outputs": [],
   "source": [
    "#session.query(extract('year',Measurement.date)).group_by(extract('year',Measurement.date)).all()\n",
    "query = session.query(extract('year',Measurement.date),extract('month',Measurement.date),Measurement.tobs).filter(extract('month',Measurement.date)>=3).filter(extract('day',Measurement.date)>=1).\\\n",
    "filter(extract('month',Measurement.date)<=6).filter(extract('day',Measurement.date)<=1).group_by(extract('year',Measurement.date),extract('month',Measurement.date)).order_by(Measurement.date).all()\n",
    "#query\n",
    "\n",
    "SPRING = session.query(Measurement.date,Measurement.tobs).\\\n",
    "filter(and_(extract('month',Measurement.date)>=3,extract('day',Measurement.date)>=1)).\\\n",
    "filter(and_(extract('month',Measurement.date)<=5,extract('day',Measurement.date)<=31)).\\\n",
    "order_by(Measurement.date).all()\n",
    "#SPRING\n",
    "\n",
    "\n",
    "SUMMER = session.query(Measurement.date,Measurement.tobs).\\\n",
    "filter(and_(extract('month',Measurement.date)>=6,extract('day',Measurement.date)>=1,\\\n",
    "       extract('month',Measurement.date)<=8),extract('day',Measurement.date)<=31).\\\n",
    "order_by(Measurement.date).all()\n",
    "#SUMMER\n",
    "\n",
    "FALL = session.query(Measurement.date,Measurement.tobs).\\\n",
    "filter(and_(extract('month',Measurement.date)>=9,extract('day',Measurement.date)>=1,\\\n",
    "            extract('month',Measurement.date)<=11,extract('day',Measurement.date)<=30)).\\\n",
    "order_by(Measurement.date).all()\n",
    "#FALL\n",
    "\n",
    "WINTER = session.query(Measurement.date,Measurement.tobs).\\\n",
    "filter(or_(and_(extract('month',Measurement.date)>=12,extract('day',Measurement.date)>=1,\\\n",
    "            extract('month',Measurement.date)<=12,extract('day',Measurement.date)<=31),\\\n",
    "          and_(extract('month',Measurement.date)>=1,extract('day',Measurement.date)>=1,\\\n",
    "            extract('month',Measurement.date)<=2,extract('day',Measurement.date)<=29))).\\\n",
    "order_by(Measurement.date).all()\n",
    "#WINTER\n",
    "spring_df = pd.DataFrame(SPRING,columns=['Date','Temperature'])\n",
    "spring_df['season'] = 'Spring'\n",
    "summer_df = pd.DataFrame(SUMMER,columns=['Date','Temperature'])\n",
    "summer_df['season'] = 'Summer'\n",
    "fall_df = pd.DataFrame(FALL,columns=['Date','Temperature'])\n",
    "fall_df['season'] = 'Fall'\n",
    "winter_df =pd.DataFrame(WINTER,columns=['Date','Temperature'])\n",
    "winter_df['season'] = 'Winter'"
   ]
  },
  {
   "cell_type": "code",
   "execution_count": 20,
   "metadata": {},
   "outputs": [],
   "source": [
    "season = pd.concat([spring_df,summer_df,fall_df,winter_df])\n",
    "#print(season.to_string(index=False))"
   ]
  },
  {
   "cell_type": "code",
   "execution_count": 21,
   "metadata": {},
   "outputs": [
    {
     "name": "stdout",
     "output_type": "stream",
     "text": [
      "       Temperature\n",
      "count  5139.000000\n",
      "mean     72.046507\n",
      "std       3.910986\n",
      "min      53.000000\n",
      "25%      70.000000\n",
      "50%      72.000000\n",
      "75%      75.000000\n",
      "max      87.000000\n"
     ]
    },
    {
     "data": {
      "text/plain": [
       "<AxesSubplot:ylabel='Frequency'>"
      ]
     },
     "execution_count": 21,
     "metadata": {},
     "output_type": "execute_result"
    },
    {
     "data": {
      "image/png": "[encoded data removed]",
      "text/plain": [
       "<Figure size 432x288 with 1 Axes>"
      ]
     },
     "metadata": {
      "needs_background": "light"
     },
     "output_type": "display_data"
    }
   ],
   "source": [
    "print(spring_df.describe())\n",
    "spring_df.plot.hist(bins=5,color='brown', alpha=0.5)"
   ]
  },
  {
   "cell_type": "code",
   "execution_count": 22,
   "metadata": {},
   "outputs": [
    {
     "name": "stdout",
     "output_type": "stream",
     "text": [
      "       Temperature\n",
      "count  5033.000000\n",
      "mean     75.804292\n",
      "std       3.412902\n",
      "min      61.000000\n",
      "25%      73.000000\n",
      "50%      76.000000\n",
      "75%      78.000000\n",
      "max      87.000000\n"
     ]
    },
    {
     "data": {
      "text/plain": [
       "<AxesSubplot:ylabel='Frequency'>"
      ]
     },
     "execution_count": 22,
     "metadata": {},
     "output_type": "execute_result"
    },
    {
     "data": {
      "image/png": "[encoded data removed]",
      "text/plain": [
       "<Figure size 432x288 with 1 Axes>"
      ]
     },
     "metadata": {
      "needs_background": "light"
     },
     "output_type": "display_data"
    }
   ],
   "source": [
    "print(summer_df.describe())\n",
    "summer_df.plot.hist(color='orange',alpha=0.5)"
   ]
  },
  {
   "cell_type": "code",
   "execution_count": 23,
   "metadata": {},
   "outputs": [
    {
     "name": "stdout",
     "output_type": "stream",
     "text": [
      "       Temperature\n",
      "count  4475.000000\n",
      "mean     74.942123\n",
      "std       3.774607\n",
      "min      61.000000\n",
      "25%      73.000000\n",
      "50%      75.000000\n",
      "75%      78.000000\n",
      "max      87.000000\n"
     ]
    },
    {
     "data": {
      "text/plain": [
       "<AxesSubplot:ylabel='Frequency'>"
      ]
     },
     "execution_count": 23,
     "metadata": {},
     "output_type": "execute_result"
    },
    {
     "data": {
      "image/png": "[encoded data removed]",
      "text/plain": [
       "<Figure size 432x288 with 1 Axes>"
      ]
     },
     "metadata": {
      "needs_background": "light"
     },
     "output_type": "display_data"
    }
   ],
   "source": [
    "print(fall_df.describe())\n",
    "fall_df.plot.hist(color='green',alpha=0.5)"
   ]
  },
  {
   "cell_type": "code",
   "execution_count": 24,
   "metadata": {},
   "outputs": [
    {
     "data": {
      "text/plain": [
       "<AxesSubplot:ylabel='Frequency'>"
      ]
     },
     "execution_count": 24,
     "metadata": {},
     "output_type": "execute_result"
    },
    {
     "data": {
      "image/png": "[encoded data removed]",
      "text/plain": [
       "<Figure size 432x288 with 1 Axes>"
      ]
     },
     "metadata": {
      "needs_background": "light"
     },
     "output_type": "display_data"
    }
   ],
   "source": [
    "winter_df.describe()\n",
    "winter_df.plot.hist(alpha=0.5)\n"
   ]
  },
  {
   "cell_type": "code",
   "execution_count": 25,
   "metadata": {},
   "outputs": [
    {
     "data": {
      "text/plain": [
       "<AxesSubplot:ylabel='Frequency'>"
      ]
     },
     "execution_count": 25,
     "metadata": {},
     "output_type": "execute_result"
    },
    {
     "data": {
      "image/png": "[encoded data removed]",
      "text/plain": [
       "<Figure size 432x288 with 1 Axes>"
      ]
     },
     "metadata": {
      "needs_background": "light"
     },
     "output_type": "display_data"
    }
   ],
   "source": [
    "season.plot.hist(alpha=0.8)"
   ]
  },
  {
   "cell_type": "code",
   "execution_count": 26,
   "metadata": {},
   "outputs": [
    {
     "data": {
      "image/png": "[encoded data removed]",
      "text/plain": [
       "<Figure size 432x288 with 1 Axes>"
      ]
     },
     "metadata": {
      "needs_background": "light"
     },
     "output_type": "display_data"
    },
    {
     "data": {
      "image/png": "[encoded data removed]",
      "text/plain": [
       "<Figure size 432x288 with 1 Axes>"
      ]
     },
     "metadata": {
      "needs_background": "light"
     },
     "output_type": "display_data"
    }
   ],
   "source": [
    "# calculate the summary statistics for season to generate comparisons\n",
    "# https://www.lightspeedhq.com/blog/are-you-really-ready-to-open-an-ice-cream-shop/\n",
    "bins= 5\n",
    "plt.hist(winter_df['Temperature'], bins, alpha = 0.5, label='Winter')\n",
    "plt.hist(spring_df['Temperature'], bins, alpha = 0.5, label='Spring')\n",
    "\n",
    "\n",
    "\n",
    "plt.legend(loc='upper left')\n",
    "\n",
    "plt.show()\n",
    "plt.hist(fall_df['Temperature'], bins, alpha = 0.5, label='Fall')\n",
    "plt.hist(summer_df['Temperature'], bins, alpha = 0.5, label='Summer')\n",
    "\n",
    "\n",
    "\n",
    "plt.legend(loc='upper left')\n",
    "plt.show()"
   ]
  },
  {
   "cell_type": "code",
   "execution_count": 27,
   "metadata": {},
   "outputs": [
    {
     "data": {
      "image/png": "[encoded data removed]",
      "text/plain": [
       "<Figure size 432x288 with 1 Axes>"
      ]
     },
     "metadata": {
      "needs_background": "light"
     },
     "output_type": "display_data"
    }
   ],
   "source": [
    "season.plot.hist()\n",
    "data_files = ['Spring','Summer','Fall','Winter']"
   ]
  },
  {
   "cell_type": "code",
   "execution_count": 28,
   "metadata": {},
   "outputs": [],
   "source": [
    "# Is it Winter the best time to eat Ice Cream?\n",
    "#https://spoonuniversity.com/lifestyle/eat-ice-cream-in-winter"
   ]
  },
  {
   "cell_type": "code",
   "execution_count": 29,
   "metadata": {},
   "outputs": [],
   "source": [
    "# Very insteresting topics to analyze:\n",
    "# store trendings\n",
    "# melting without worries\n",
    "# flavor limit-time delights\n",
    "# winter desserts come with ice cream on top"
   ]
  }
 ],
 "metadata": {
  "kernelspec": {
   "display_name": "PythonData",
   "language": "python",
   "name": "pythondata"
  },
  "language_info": {
   "codemirror_mode": {
    "name": "ipython",
    "version": 3
   },
   "file_extension": ".py",
   "mimetype": "text/x-python",
   "name": "python",
   "nbconvert_exporter": "python",
   "pygments_lexer": "ipython3",
   "version": "3.7.11"
  }
 },
 "nbformat": 4,
 "nbformat_minor": 2
}
